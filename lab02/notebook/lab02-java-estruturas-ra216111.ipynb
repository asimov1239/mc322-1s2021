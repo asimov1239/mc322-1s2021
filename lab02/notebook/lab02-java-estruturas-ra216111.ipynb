{
  "nbformat": 4,
  "nbformat_minor": 0,
  "metadata": {
    "kernelspec": {
      "display_name": "Java",
      "language": "java",
      "name": "java"
    },
    "language_info": {
      "codemirror_mode": "text/x-java",
      "file_extension": ".java",
      "mimetype": "",
      "name": "Java",
      "nbconverter_exporter": "",
      "version": "1.8.0_121"
    },
    "colab": {
      "name": "lab02-java-estruturas.ipynb",
      "provenance": [],
      "collapsed_sections": []
    }
  },
  "cells": [
    {
      "cell_type": "markdown",
      "metadata": {
        "id": "kOXn7qpDWtJw"
      },
      "source": [
        "# Laboratório em Estruturas de Programação Java\n",
        "\n",
        "O laboratório a seguir serve para praticar estruturas de programação Java sem compromisso com a orientação a objetos."
      ]
    },
    {
      "cell_type": "markdown",
      "metadata": {
        "id": "JR-gfD0YWtJ5"
      },
      "source": [
        "## Desafio 1 - Empréstimo\n",
        "\n",
        "Em um financiamento com juros compostos e número de parcelas fixas parte-se dos seguintes parâmetros:\n",
        "* `S` - valor da primeira parcela\n",
        "* `N` - número de parcelas\n",
        "* `J` - percentual de juros mensal\n",
        "\n",
        "A primeira parcela a ser paga do financiamento é sempre igual a `S`. A partir daí é feita uma atualização mensal da parcela, em que cada nova parcela é calculada a partir da parcela do mês anterior, conforme a fórmula:\n",
        "\n",
        "> Parcela<sub>mês</sub> = Parcela<sub>mês-1</sub> * (1 + `J` / 100)\n",
        "\n",
        "O financiamento encerra quando as `N` parcelas são pagas.\n",
        "\n",
        "Exemplo:\n",
        "* `S`: 200\n",
        "* `N`: 5\n",
        "* `J`: 1%\n",
        "\n",
        "Parcelas do financiamento:\n",
        "`200`; `202`; `204.02`; `206.06`; `208.12`"
      ]
    },
    {
      "cell_type": "markdown",
      "metadata": {
        "id": "JIzsl0_fWtJ7"
      },
      "source": [
        "### Desafio 1 / Parte 1 - Escrevendo o programa sem módulos\n",
        "\n",
        "Dado o problema descrito, escreva um programa que calcule as parcelas de um empréstimo para os seguintes valores:\n",
        "* S: 200\n",
        "* N: 5\n",
        "* J: 1%\n",
        "\n",
        "Nesta versão não use outro módulo além da função principal."
      ]
    },
    {
      "cell_type": "code",
      "metadata": {
        "id": "I-pr77VMWtJ7"
      },
      "source": [
        "public class Main {\n",
        "\tpublic static void main(String[] args) {\n",
        "\t    double parcela = 200;\n",
        "\t    double J = 1;\n",
        "\t    int n = 5;\n",
        "\t    for(int i = 0; i < n; i++) {\n",
        "\t    \tSystem.out.println(\"Parcela: \" + parcela);\n",
        "\t    \tparcela = parcela + parcela*(J/100);\n",
        "\t    }\n",
        "\t}\n",
        "}"
      ],
      "execution_count": null,
      "outputs": []
    },
    {
      "cell_type": "markdown",
      "metadata": {
        "id": "Fj3Hy-DsWtJ8"
      },
      "source": [
        "### Desafio 1 / Parte 2 - Escrevendo módulos\n",
        "\n",
        "Reescreva o código acima de forma que seu programa faça uso de uma função que seja responsável pelo cálculo de uma parcela X do empréstimo. Podem ser usadas mais funções (métodos) conforme a necessidade."
      ]
    },
    {
      "cell_type": "code",
      "metadata": {
        "id": "hktbiyZ1WtJ8"
      },
      "source": [
        "public class Main  {\n",
        "\n",
        "\tstatic double proxParcela(double parcela, double J) {\n",
        "\t\treturn parcela + parcela*(J/100);\n",
        "\t}\n",
        "\n",
        "\tpublic static void main(String[] args) {\n",
        "\t\tdouble parcela = 200;\n",
        "\t\tdouble J = 1;\n",
        "\t\tfor(int i = 0; i < 5; i++) {\n",
        "\t\t\tSystem.out.println(\"Parcela: \" + \n",
        "\t\t\t\t\tString.format(\"%.2f\", parcela));\n",
        "\t\t\tparcela = proxParcela(parcela, J);\n",
        "\t\t}\n",
        "\t}\n",
        "\n",
        "}\n"
      ],
      "execution_count": null,
      "outputs": []
    },
    {
      "cell_type": "markdown",
      "metadata": {
        "id": "3wnuSysHWtJ9"
      },
      "source": [
        "## Desafio 2\n",
        "\n",
        "Escreva um programa que sorteie um número inteiro entre `0` e `9999` o número deve ser mostrado, em seguida convertido para binário e a versão binária deve ser apresentada no console. A conversão decimal/binário deve ser computada por um programa feito por você."
      ]
    },
    {
      "cell_type": "code",
      "metadata": {
        "id": "AH62-m-JWtJ9"
      },
      "source": [
        "import java.util.Random;\n",
        "\n",
        "public class Main {\n",
        "\n",
        "\tpublic static void main(String[] args) {\n",
        "\t\tRandom rand = new Random();\n",
        "\t\tint num = rand.nextInt(10000);\n",
        "\t\tSystem.out.println(num + \" \" + num/2 + \" \" + num%2);\n",
        "\t\tconverterBinario(num);\n",
        "\t}\n",
        "\n",
        "\tpublic static void converterBinario(int num) {\n",
        "\t\tif(num == 0 || num == 1)  {\n",
        "\t\t\tSystem.out.print(num);\n",
        "\t\t\treturn ;\n",
        "\t\t}\n",
        "\t\tint aux = num % 2;\n",
        "\t\tconverterBinario(num / 2);\n",
        "\t\tSystem.out.print(aux);\n",
        "\t\treturn ;\n",
        "\t}\n",
        "\n",
        "}"
      ],
      "execution_count": null,
      "outputs": []
    },
    {
      "cell_type": "markdown",
      "metadata": {
        "id": "sF_sc-pHWtJ-"
      },
      "source": [
        "## Desafio 3\n",
        "\n",
        "Uma molécula de DNA pode ser definida a partir de uma cadeia que representa a sequência de suas bases:\n",
        "A - Adenina\n",
        "C - Citisina\n",
        "G - Guanina\n",
        "T - Tinina\n",
        "\n",
        "Desse modo, uma string pode ser usada para representar um segmento do DNA da seguinte maneira: `ATTACGCGCAAAC`.\n",
        "\n",
        "Escreva uma função (método) que codifique a cadeia de RNA produzida a partir de uma cadeia de DNA. A função deve ser genérica o suficiente para ser aplicável a qualquer cadeia. A entrada é uma string (DNA) e o retorno é uma string (RNA).\n",
        "\n",
        "Escreva um programa que teste esta função com uma cadeia de DNA de sua escolha."
      ]
    },
    {
      "cell_type": "code",
      "metadata": {
        "id": "gZni4xZkmsSb"
      },
      "source": [
        "import java.util.Scanner;\n",
        "\n",
        "public class Main {\n",
        "\tpublic static void converterDNA(String dna) {\n",
        "\t\tfor(int i = 0; i < dna.length(); i++) {\n",
        "\t\t\tchar aux = dna.charAt(i);\n",
        "\t\t\tswitch(aux) {\n",
        "\t\t\t\tcase 'A':\n",
        "\t\t\t\t\tSystem.out.print('U');\n",
        "\t\t\t\t\tbreak;\n",
        "\t\t\t\tcase 'T':\n",
        "\t\t\t\t\tSystem.out.print('A');\n",
        "\t\t\t\t\tbreak;\n",
        "\t\t\t\tcase 'G':\n",
        "\t\t\t\t\tSystem.out.print('C');\n",
        "\t\t\t\t\tbreak;\n",
        "\t\t\t\tcase 'C':\n",
        "\t\t\t\t\tSystem.out.print('G');\n",
        "\t\t\t\t\tbreak;\n",
        "\t\t\t}\n",
        "\t\t}\n",
        "\t}\n",
        "\tpublic static void main(String[] args) {\n",
        "\t\tScanner inputUser = new Scanner(System.in);\n",
        "\t\tString dna = inputUser.nextLine();\n",
        "\t\tconverterDNA(dna);\n",
        "\t}\n",
        "}"
      ],
      "execution_count": null,
      "outputs": []
    },
    {
      "cell_type": "code",
      "metadata": {
        "id": "ronz-4gdWtJ_"
      },
      "source": [
        ""
      ],
      "execution_count": null,
      "outputs": []
    },
    {
      "cell_type": "markdown",
      "metadata": {
        "id": "J04lAW4_WtJ_"
      },
      "source": [
        "## Desafio 4\n",
        "\n",
        "Uma empresa precisa realizar uma estatística do salário de seus funcionários.\n",
        "\n",
        "Para fins de teste, os salários devem ser gerados aleatoriamente com valores variando entre R\\\\$ 2.500 e R\\\\$ 15.000.\n",
        "\n",
        "Escreva um programa que gere uma lista contendo os salários de 50 funcionários da empresa e mostre no console quantos funcionários ganham salário acima da média."
      ]
    },
    {
      "cell_type": "code",
      "metadata": {
        "id": "3g0HCjiVWtJ_"
      },
      "source": [
        "import java.util.ArrayList;\n",
        "import java.util.Random;\n",
        "\n",
        "public class Main {\n",
        "\n",
        "    public static int obterMedia(ArrayList<Integer> salarios){\n",
        "        int media = 0;\n",
        "        for (Integer salario : salarios) {\n",
        "            media += salario;\n",
        "        }\n",
        "        return media/salarios.size();\n",
        "    }\n",
        "\n",
        "    public static int acimaDaMedia(ArrayList<Integer> salarios){\n",
        "        int media = obterMedia(salarios);\n",
        "        int qtd = 0;\n",
        "        for (Integer salario : salarios) {\n",
        "            if (salario > media) {\n",
        "                qtd++;\n",
        "            }\n",
        "        }\n",
        "        return qtd;\n",
        "    }\n",
        "\n",
        "    public static void obterSalarios() {\n",
        "        Random rand = new Random();\n",
        "        ArrayList<Integer> salarios = new ArrayList<>();\n",
        "        for (int i = 0; i < 50; i++) {\n",
        "            salarios.add(rand.nextInt(12501) + 2500);\n",
        "        }\n",
        "        System.out.println(acimaDaMedia(salarios));\n",
        "    }\n",
        "\n",
        "    public static void main(String[] args) {\n",
        "        obterSalarios();\n",
        "    }\n",
        "}"
      ],
      "execution_count": null,
      "outputs": []
    }
  ]
}